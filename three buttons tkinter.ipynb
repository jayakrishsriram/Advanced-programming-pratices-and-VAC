{
 "cells": [
  {
   "cell_type": "code",
   "execution_count": 2,
   "id": "13c76712",
   "metadata": {},
   "outputs": [],
   "source": [
    "import tkinter as tk\n",
    "\n",
    "root = tk.Tk()\n",
    "root.title(\"My Form\")\n",
    "\n",
    "menu = tk.Menu(root)\n",
    "menu.add_command(label=\"Exit\", command=root.destroy)\n",
    "root.config(menu=menu)\n",
    "\n",
    "label = tk.Label(root, text=\"What is your name?\")\n",
    "label.grid(row=0)\n",
    "entry = tk.Entry(root)\n",
    "entry.grid(row=0,column=1)\n",
    "\n",
    "radio_var = tk.StringVar()\n",
    "label = tk.Label(root, text=\"Your gender:\")\n",
    "label.grid(row=1)\n",
    "\n",
    "radio1 = tk.Radiobutton(root, text=\"Male\", variable=radio_var, value=\"Male\")\n",
    "radio1.grid(row=1,column=1)\n",
    "\n",
    "radio2 = tk.Radiobutton(root, text=\"Female\", variable=radio_var, value=\"Female\")\n",
    "radio2.grid(row=1,column=2)\n",
    "\n",
    "radio3 = tk.Radiobutton(root, text=\"Other\", variable=radio_var, value=\"Other\")\n",
    "radio3.grid(row=1,column=3)\n",
    "\n",
    "c1 = tk.IntVar()\n",
    "c2 = tk.IntVar()\n",
    "c3 = tk.IntVar()\n",
    "label = tk.Label(root, text=\"Known programming language:\")\n",
    "label.grid(row=2)\n",
    "checkbox1 = tk.Checkbutton(root, text=\"Python\", variable=c1)\n",
    "checkbox1 .grid(row=2,column=1)\n",
    "checkbox2 = tk.Checkbutton(root, text=\"Java\", variable=c2)\n",
    "checkbox2.grid(row=2,column=2)\n",
    "checkbox3 = tk.Checkbutton(root, text=\"Ruby\", variable=c3)\n",
    "checkbox3.grid(row=2,column=3)\n",
    "\n",
    "button = tk.Button(root, text=\"Submit\")\n",
    "\n",
    "button.grid(row=5)\n",
    "root.mainloop()"
   ]
  },
  {
   "cell_type": "code",
   "execution_count": null,
   "id": "55e6ae2e",
   "metadata": {},
   "outputs": [],
   "source": []
  }
 ],
 "metadata": {
  "kernelspec": {
   "display_name": "Python 3 (ipykernel)",
   "language": "python",
   "name": "python3"
  },
  "language_info": {
   "codemirror_mode": {
    "name": "ipython",
    "version": 3
   },
   "file_extension": ".py",
   "mimetype": "text/x-python",
   "name": "python",
   "nbconvert_exporter": "python",
   "pygments_lexer": "ipython3",
   "version": "3.9.13"
  }
 },
 "nbformat": 4,
 "nbformat_minor": 5
}
